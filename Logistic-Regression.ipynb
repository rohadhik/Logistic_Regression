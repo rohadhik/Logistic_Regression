{
 "cells": [
  {
   "cell_type": "markdown",
   "metadata": {},
   "source": [
    "# Logistic Regression\n",
    "***"
   ]
  },
  {
   "cell_type": "markdown",
   "metadata": {},
   "source": [
    "### Table of Content\n",
    "1. Predict with Linear Regression\n",
    "2. Predict with Logsitic Regression\n",
    "3. Examine and Compare Predictions (Hard Predictions versus Soft Predictions)\n",
    "4. Model Evaluation\n",
    "5. Explain how to interpret logistic regression coefficients"
   ]
  },
  {
   "cell_type": "markdown",
   "metadata": {},
   "source": [
    "Let's do it! We'll learn about logistic regression by examining a glass dataset."
   ]
  },
  {
   "cell_type": "code",
   "execution_count": 1,
   "metadata": {},
   "outputs": [],
   "source": [
    "# Import Libraries\n",
    "import pandas as pd\n",
    "import seaborn as sns\n",
    "import numpy as np\n",
    "import matplotlib.pyplot as plt\n",
    "%matplotlib inline"
   ]
  },
  {
   "cell_type": "markdown",
   "metadata": {},
   "source": [
    "**Get the glass dataset**"
   ]
  },
  {
   "cell_type": "code",
   "execution_count": 2,
   "metadata": {},
   "outputs": [
    {
     "data": {
      "text/html": [
       "<div>\n",
       "<style scoped>\n",
       "    .dataframe tbody tr th:only-of-type {\n",
       "        vertical-align: middle;\n",
       "    }\n",
       "\n",
       "    .dataframe tbody tr th {\n",
       "        vertical-align: top;\n",
       "    }\n",
       "\n",
       "    .dataframe thead th {\n",
       "        text-align: right;\n",
       "    }\n",
       "</style>\n",
       "<table border=\"1\" class=\"dataframe\">\n",
       "  <thead>\n",
       "    <tr style=\"text-align: right;\">\n",
       "      <th></th>\n",
       "      <th>ri</th>\n",
       "      <th>na</th>\n",
       "      <th>mg</th>\n",
       "      <th>al</th>\n",
       "      <th>si</th>\n",
       "      <th>k</th>\n",
       "      <th>ca</th>\n",
       "      <th>ba</th>\n",
       "      <th>fe</th>\n",
       "      <th>glass_type</th>\n",
       "    </tr>\n",
       "  </thead>\n",
       "  <tbody>\n",
       "    <tr>\n",
       "      <th>1</th>\n",
       "      <td>1.52101</td>\n",
       "      <td>13.64</td>\n",
       "      <td>4.49</td>\n",
       "      <td>1.10</td>\n",
       "      <td>71.78</td>\n",
       "      <td>0.06</td>\n",
       "      <td>8.75</td>\n",
       "      <td>0.0</td>\n",
       "      <td>0.0</td>\n",
       "      <td>1</td>\n",
       "    </tr>\n",
       "    <tr>\n",
       "      <th>2</th>\n",
       "      <td>1.51761</td>\n",
       "      <td>13.89</td>\n",
       "      <td>3.60</td>\n",
       "      <td>1.36</td>\n",
       "      <td>72.73</td>\n",
       "      <td>0.48</td>\n",
       "      <td>7.83</td>\n",
       "      <td>0.0</td>\n",
       "      <td>0.0</td>\n",
       "      <td>1</td>\n",
       "    </tr>\n",
       "    <tr>\n",
       "      <th>3</th>\n",
       "      <td>1.51618</td>\n",
       "      <td>13.53</td>\n",
       "      <td>3.55</td>\n",
       "      <td>1.54</td>\n",
       "      <td>72.99</td>\n",
       "      <td>0.39</td>\n",
       "      <td>7.78</td>\n",
       "      <td>0.0</td>\n",
       "      <td>0.0</td>\n",
       "      <td>1</td>\n",
       "    </tr>\n",
       "    <tr>\n",
       "      <th>4</th>\n",
       "      <td>1.51766</td>\n",
       "      <td>13.21</td>\n",
       "      <td>3.69</td>\n",
       "      <td>1.29</td>\n",
       "      <td>72.61</td>\n",
       "      <td>0.57</td>\n",
       "      <td>8.22</td>\n",
       "      <td>0.0</td>\n",
       "      <td>0.0</td>\n",
       "      <td>1</td>\n",
       "    </tr>\n",
       "    <tr>\n",
       "      <th>5</th>\n",
       "      <td>1.51742</td>\n",
       "      <td>13.27</td>\n",
       "      <td>3.62</td>\n",
       "      <td>1.24</td>\n",
       "      <td>73.08</td>\n",
       "      <td>0.55</td>\n",
       "      <td>8.07</td>\n",
       "      <td>0.0</td>\n",
       "      <td>0.0</td>\n",
       "      <td>1</td>\n",
       "    </tr>\n",
       "  </tbody>\n",
       "</table>\n",
       "</div>"
      ],
      "text/plain": [
       "        ri     na    mg    al     si     k    ca   ba   fe  glass_type\n",
       "1  1.52101  13.64  4.49  1.10  71.78  0.06  8.75  0.0  0.0           1\n",
       "2  1.51761  13.89  3.60  1.36  72.73  0.48  7.83  0.0  0.0           1\n",
       "3  1.51618  13.53  3.55  1.54  72.99  0.39  7.78  0.0  0.0           1\n",
       "4  1.51766  13.21  3.69  1.29  72.61  0.57  8.22  0.0  0.0           1\n",
       "5  1.51742  13.27  3.62  1.24  73.08  0.55  8.07  0.0  0.0           1"
      ]
     },
     "execution_count": 2,
     "metadata": {},
     "output_type": "execute_result"
    }
   ],
   "source": [
    "url = 'http://archive.ics.uci.edu/ml/machine-learning-databases/glass/glass.data'\n",
    "col_names = ['ri','na','mg','al','si','k','ca','ba','fe','glass_type']\n",
    "df = pd.read_csv(url, names=col_names)\n",
    "df.head()"
   ]
  },
  {
   "cell_type": "markdown",
   "metadata": {},
   "source": [
    "**Look at class labels**\n",
    "\n",
    "Type of glass: (class attribute) http://archive.ics.uci.edu/ml/machine-learning-databases/glass/glass.names\n",
    "\n",
    "**Window Glass:**\n",
    "- 1 building_windows_float_processed\n",
    "- 2 building_windows_non_float_processed\n",
    "- 3 vehicle_windows_float_processed\n",
    "- 4 vehicle_windows_non_float_processed (none in this database)\n",
    "\n",
    "**Non-Window Glass:**\n",
    "- 5 containers\n",
    "- 6 tableware\n",
    "- 7 headlamps"
   ]
  },
  {
   "cell_type": "code",
   "execution_count": 3,
   "metadata": {},
   "outputs": [
    {
     "data": {
      "text/plain": [
       "1    70\n",
       "2    76\n",
       "3    17\n",
       "5    13\n",
       "6     9\n",
       "7    29\n",
       "Name: glass_type, dtype: int64"
      ]
     },
     "execution_count": 3,
     "metadata": {},
     "output_type": "execute_result"
    }
   ],
   "source": [
    "# Display class values\n",
    "df.glass_type.value_counts().sort_index()"
   ]
  },
  {
   "cell_type": "markdown",
   "metadata": {},
   "source": [
    "**Convert the target feature into a binary feature (glass vs non-window glass)**"
   ]
  },
  {
   "cell_type": "code",
   "execution_count": 4,
   "metadata": {},
   "outputs": [
    {
     "data": {
      "text/html": [
       "<div>\n",
       "<style scoped>\n",
       "    .dataframe tbody tr th:only-of-type {\n",
       "        vertical-align: middle;\n",
       "    }\n",
       "\n",
       "    .dataframe tbody tr th {\n",
       "        vertical-align: top;\n",
       "    }\n",
       "\n",
       "    .dataframe thead th {\n",
       "        text-align: right;\n",
       "    }\n",
       "</style>\n",
       "<table border=\"1\" class=\"dataframe\">\n",
       "  <thead>\n",
       "    <tr style=\"text-align: right;\">\n",
       "      <th></th>\n",
       "      <th>ri</th>\n",
       "      <th>na</th>\n",
       "      <th>mg</th>\n",
       "      <th>al</th>\n",
       "      <th>si</th>\n",
       "      <th>k</th>\n",
       "      <th>ca</th>\n",
       "      <th>ba</th>\n",
       "      <th>fe</th>\n",
       "      <th>glass_type</th>\n",
       "      <th>household</th>\n",
       "    </tr>\n",
       "  </thead>\n",
       "  <tbody>\n",
       "    <tr>\n",
       "      <th>1</th>\n",
       "      <td>1.52101</td>\n",
       "      <td>13.64</td>\n",
       "      <td>4.49</td>\n",
       "      <td>1.10</td>\n",
       "      <td>71.78</td>\n",
       "      <td>0.06</td>\n",
       "      <td>8.75</td>\n",
       "      <td>0.0</td>\n",
       "      <td>0.0</td>\n",
       "      <td>1</td>\n",
       "      <td>0</td>\n",
       "    </tr>\n",
       "    <tr>\n",
       "      <th>2</th>\n",
       "      <td>1.51761</td>\n",
       "      <td>13.89</td>\n",
       "      <td>3.60</td>\n",
       "      <td>1.36</td>\n",
       "      <td>72.73</td>\n",
       "      <td>0.48</td>\n",
       "      <td>7.83</td>\n",
       "      <td>0.0</td>\n",
       "      <td>0.0</td>\n",
       "      <td>1</td>\n",
       "      <td>0</td>\n",
       "    </tr>\n",
       "    <tr>\n",
       "      <th>3</th>\n",
       "      <td>1.51618</td>\n",
       "      <td>13.53</td>\n",
       "      <td>3.55</td>\n",
       "      <td>1.54</td>\n",
       "      <td>72.99</td>\n",
       "      <td>0.39</td>\n",
       "      <td>7.78</td>\n",
       "      <td>0.0</td>\n",
       "      <td>0.0</td>\n",
       "      <td>1</td>\n",
       "      <td>0</td>\n",
       "    </tr>\n",
       "    <tr>\n",
       "      <th>4</th>\n",
       "      <td>1.51766</td>\n",
       "      <td>13.21</td>\n",
       "      <td>3.69</td>\n",
       "      <td>1.29</td>\n",
       "      <td>72.61</td>\n",
       "      <td>0.57</td>\n",
       "      <td>8.22</td>\n",
       "      <td>0.0</td>\n",
       "      <td>0.0</td>\n",
       "      <td>1</td>\n",
       "      <td>0</td>\n",
       "    </tr>\n",
       "    <tr>\n",
       "      <th>5</th>\n",
       "      <td>1.51742</td>\n",
       "      <td>13.27</td>\n",
       "      <td>3.62</td>\n",
       "      <td>1.24</td>\n",
       "      <td>73.08</td>\n",
       "      <td>0.55</td>\n",
       "      <td>8.07</td>\n",
       "      <td>0.0</td>\n",
       "      <td>0.0</td>\n",
       "      <td>1</td>\n",
       "      <td>0</td>\n",
       "    </tr>\n",
       "  </tbody>\n",
       "</table>\n",
       "</div>"
      ],
      "text/plain": [
       "        ri     na    mg    al     si     k    ca   ba   fe  glass_type  \\\n",
       "1  1.52101  13.64  4.49  1.10  71.78  0.06  8.75  0.0  0.0           1   \n",
       "2  1.51761  13.89  3.60  1.36  72.73  0.48  7.83  0.0  0.0           1   \n",
       "3  1.51618  13.53  3.55  1.54  72.99  0.39  7.78  0.0  0.0           1   \n",
       "4  1.51766  13.21  3.69  1.29  72.61  0.57  8.22  0.0  0.0           1   \n",
       "5  1.51742  13.27  3.62  1.24  73.08  0.55  8.07  0.0  0.0           1   \n",
       "\n",
       "   household  \n",
       "1          0  \n",
       "2          0  \n",
       "3          0  \n",
       "4          0  \n",
       "5          0  "
      ]
     },
     "execution_count": 4,
     "metadata": {},
     "output_type": "execute_result"
    }
   ],
   "source": [
    "# glass_type 1, 2, 3 are window glass\n",
    "# glass_type 5, 6, 7 are non-window glass\n",
    "df['household'] = df.glass_type.map({1:0, 2:0, 3:0, 5:1, 6:1, 7:1})\n",
    "df.head()"
   ]
  },
  {
   "cell_type": "markdown",
   "metadata": {},
   "source": [
    "**Let's plot Aluminum (al) vs household**"
   ]
  },
  {
   "cell_type": "code",
   "execution_count": 5,
   "metadata": {},
   "outputs": [
    {
     "data": {
      "text/plain": [
       "Text(0, 0.5, 'household')"
      ]
     },
     "execution_count": 5,
     "metadata": {},
     "output_type": "execute_result"
    },
    {
     "data": {
      "image/png": "[encoded data removed]",
      "text/plain": [
       "<Figure size 432x288 with 1 Axes>"
      ]
     },
     "metadata": {
      "needs_background": "light"
     },
     "output_type": "display_data"
    }
   ],
   "source": [
    "plt.scatter(df.al, df.household)\n",
    "plt.xlabel('al')\n",
    "plt.ylabel('household')"
   ]
  },
  {
   "cell_type": "markdown",
   "metadata": {},
   "source": [
    "**Create Train/Test Split**"
   ]
  },
  {
   "cell_type": "code",
   "execution_count": 6,
   "metadata": {},
   "outputs": [],
   "source": [
    "from sklearn.model_selection import train_test_split\n",
    "X_train, X_test, y_train, y_test = train_test_split(df[['al']],df.household,train_size=0.7)"
   ]
  },
  {
   "cell_type": "markdown",
   "metadata": {},
   "source": [
    "## Part 1: Predicting with Linear Regression\n",
    "***"
   ]
  },
  {
   "cell_type": "markdown",
   "metadata": {},
   "source": [
    "**Create and Train Linear Regression Model**"
   ]
  },
  {
   "cell_type": "code",
   "execution_count": 7,
   "metadata": {},
   "outputs": [],
   "source": [
    "from sklearn.linear_model import LinearRegression"
   ]
  },
  {
   "cell_type": "code",
   "execution_count": 8,
   "metadata": {},
   "outputs": [],
   "source": [
    "# Fit the model\n",
    "linear_model = LinearRegression()\n",
    "linear_model = linear_model.fit(X_train, y_train)"
   ]
  },
  {
   "cell_type": "markdown",
   "metadata": {},
   "source": [
    "**Predict with Linear Regression Model**"
   ]
  },
  {
   "cell_type": "code",
   "execution_count": 9,
   "metadata": {},
   "outputs": [],
   "source": [
    "# Create a seperate table to store predictions\n",
    "glass_df = X_train[['al']]\n",
    "glass_df['household_actual'] = y_train\n",
    "\n",
    "# Predict with Linear Regression\n",
    "glass_df['household_pred_linear'] = linear_model.predict(X_train)"
   ]
  },
  {
   "cell_type": "markdown",
   "metadata": {},
   "source": [
    "**Observe Linear Regression Predictions**\n",
    "\n",
    "Notice how there are some numbers below 0 and above 1 (NOT GOOD)"
   ]
  },
  {
   "cell_type": "code",
   "execution_count": 10,
   "metadata": {
    "scrolled": true
   },
   "outputs": [
    {
     "data": {
      "text/plain": [
       "array([ 0.18048649,  0.29426857,  0.29426857, -0.03223654,  0.34373904,\n",
       "        0.28437447, -0.07675996,  0.25963924,  0.13101602,  0.49215045,\n",
       "        1.03632563,  0.29426857,  0.15575125, -0.02234244,  0.52183273,\n",
       "        0.14091011,  0.43278589,  0.85823193, -0.02728949, -0.02234244,\n",
       "        0.15575125,  0.29426857,  0.45257407,  0.16564534,  0.31405676,\n",
       "        0.16564534,  0.30910971,  0.12112192,  0.21511582,  0.29426857,\n",
       "        0.17059239,  0.0765985 ,  0.12112192,  0.23985105,  0.1606983 ,\n",
       "       -0.09654815,  0.12606897,  0.91264945,  0.23985105,  0.30416266,\n",
       "        0.13101602,  0.17553944,  0.23985105, -0.05697177,  0.02712803,\n",
       "        0.51688569,  0.20027467,  0.20522172,  0.14091011,  0.37836837,\n",
       "       -0.32411231,  0.34868609,  0.17059239,  0.20522172,  0.16564534,\n",
       "        0.2447981 ,  0.08649259,  0.11122783,  0.77413213,  0.60593253,\n",
       "       -0.03718358, -0.29937708,  0.33384494,  0.84833784,  0.30416266,\n",
       "        0.18543353,  0.08154554,  0.14585716,  0.20027467,  0.11122783,\n",
       "        0.08154554,  0.28437447,  0.22995696,  0.47236226,  0.18543353,\n",
       "       -0.03718358,  0.19038058,  0.25963924,  0.78897327,  0.19532763,\n",
       "       -0.14601862,  0.17059239,  0.11617487,  1.02643153,  0.26953333,\n",
       "        0.22500991, -0.23506547,  0.51193864,  0.19532763,  0.29426857,\n",
       "        0.09638669,  0.4031036 ,  0.655403  ,  0.1606983 ,  0.35858018,\n",
       "        0.12112192,  0.12112192,  0.11617487,  0.26458629,  0.42783884,\n",
       "        0.28437447,  0.08154554,  0.55151501,  0.08649259,  0.63066777,\n",
       "        0.39320951, -0.13612453,  0.30416266,  0.45752112,  0.39320951,\n",
       "        0.30416266,  0.13596306,  0.0667044 ,  0.19038058,  0.30416266,\n",
       "        0.27942743,  0.36847427,  0.33879199,  0.88791421,  0.27942743,\n",
       "        0.10133373,  0.25963924,  0.56140911,  0.14091011,  0.41794474,\n",
       "        0.29426857,  0.15575125,  0.21511582,  0.23985105, -0.08665406,\n",
       "       -0.23506547,  0.24974514,  0.30910971,  0.31405676, -0.05697177,\n",
       "        0.42289179, -0.19054204,  0.26953333,  0.20522172,  0.5811973 ,\n",
       "       -0.0173954 ,  0.05681031,  0.33384494,  0.14091011, -0.21527728,\n",
       "        0.37836837,  0.18543353,  0.5713032 , -0.11138929])"
      ]
     },
     "execution_count": 10,
     "metadata": {},
     "output_type": "execute_result"
    }
   ],
   "source": [
    "# Examine the first 15 linear regression predictions\n",
    "linear_model.predict(X_train)"
   ]
  },
  {
   "cell_type": "markdown",
   "metadata": {},
   "source": [
    "### Plot Linear Regression\n",
    "\n",
    "What is the problem here?\n",
    "- Linear regression is making predictions outside the range of 0 and 1"
   ]
  },
  {
   "cell_type": "code",
   "execution_count": 11,
   "metadata": {},
   "outputs": [
    {
     "data": {
      "text/plain": [
       "<AxesSubplot:xlabel='al', ylabel='household_actual'>"
      ]
     },
     "execution_count": 11,
     "metadata": {},
     "output_type": "execute_result"
    },
    {
     "data": {
      "image/png": "[encoded data removed]",
      "text/plain": [
       "<Figure size 432x288 with 1 Axes>"
      ]
     },
     "metadata": {
      "needs_background": "light"
     },
     "output_type": "display_data"
    }
   ],
   "source": [
    "# Plot Linear Regression Line\n",
    "sns.regplot(x='al', y='household_actual', data=glass_df, logistic=False)"
   ]
  },
  {
   "cell_type": "markdown",
   "metadata": {},
   "source": [
    "## Part 2: Predicting with Logistic Regression\n",
    "***"
   ]
  },
  {
   "cell_type": "markdown",
   "metadata": {},
   "source": [
    "**Create and Train Logistic Regression Model**"
   ]
  },
  {
   "cell_type": "code",
   "execution_count": 12,
   "metadata": {},
   "outputs": [],
   "source": [
    "from sklearn.linear_model import LogisticRegression"
   ]
  },
  {
   "cell_type": "code",
   "execution_count": 13,
   "metadata": {},
   "outputs": [],
   "source": [
    "# Fit logistic regression model\n",
    "logistic_model = LogisticRegression(class_weight='balanced')\n",
    "logistic_model = logistic_model.fit(X_train, y_train)"
   ]
  },
  {
   "cell_type": "markdown",
   "metadata": {},
   "source": [
    "### Predict Class Probabilities & Class Predictions"
   ]
  },
  {
   "cell_type": "markdown",
   "metadata": {},
   "source": [
    "Logistic Regression allows you to make two types of predictions:\n",
    "    1. Hard Predictions: Using the predict() will output the class predictions\n",
    "    2. Soft Predictions: Using the predict_proba() will output the class probabilities"
   ]
  },
  {
   "cell_type": "markdown",
   "metadata": {},
   "source": [
    "**Hard Prediction (Class Label)**\n",
    "\n",
    "Class Labels:\n",
    "- Negative class is 0\n",
    "- Positive class is 1"
   ]
  },
  {
   "cell_type": "code",
   "execution_count": 14,
   "metadata": {
    "scrolled": true
   },
   "outputs": [
    {
     "data": {
      "text/plain": [
       "array([0, 0, 0, 0, 1, 0, 0, 0, 0, 1, 1, 0, 0, 0, 1])"
      ]
     },
     "execution_count": 14,
     "metadata": {},
     "output_type": "execute_result"
    }
   ],
   "source": [
    "# Make class label predictions\n",
    "logistic_model.predict(X_train)[:15]"
   ]
  },
  {
   "cell_type": "markdown",
   "metadata": {},
   "source": [
    "**Soft Prediction (Probability Scores)**\n",
    "\n",
    "Class Probabilities:\n",
    "- First column is the predicted probability of **class 0**\n",
    "- Second column is the predicted probability of **class 1**"
   ]
  },
  {
   "cell_type": "code",
   "execution_count": 15,
   "metadata": {
    "scrolled": true
   },
   "outputs": [
    {
     "data": {
      "text/plain": [
       "array([[0.6664568 , 0.3335432 ],\n",
       "       [0.52033648, 0.47966352],\n",
       "       [0.52033648, 0.47966352],\n",
       "       [0.86225608, 0.13774392],\n",
       "       [0.45408481, 0.54591519],\n",
       "       [0.53357563, 0.46642437],\n",
       "       [0.88826791, 0.11173209],\n",
       "       [0.56642752, 0.43357248],\n",
       "       [0.72267579, 0.27732421],\n",
       "       [0.272715  , 0.727285  ],\n",
       "       [0.01979822, 0.98020178],\n",
       "       [0.52033648, 0.47966352],\n",
       "       [0.69529417, 0.30470583],\n",
       "       [0.85582547, 0.14417453],\n",
       "       [0.24227751, 0.75772249]])"
      ]
     },
     "execution_count": 15,
     "metadata": {},
     "output_type": "execute_result"
    }
   ],
   "source": [
    "# Make class probability predictions\n",
    "logistic_model.predict_proba(X_train)[:15]"
   ]
  },
  {
   "cell_type": "code",
   "execution_count": 16,
   "metadata": {},
   "outputs": [],
   "source": [
    "# Predict with Logistic Regression\n",
    "glass_df['household_pred_log'] = logistic_model.predict(X_train)\n",
    "\n",
    "# Predict Probability with Logistic Regression\n",
    "glass_df['household_pred_prob_log'] = logistic_model.predict_proba(X_train)[:,1]"
   ]
  },
  {
   "cell_type": "markdown",
   "metadata": {},
   "source": [
    "### Plot Logistic Regression\n",
    "\n",
    "This is a lot better. Logistic Regression outcomes are within the range of 0 and 1."
   ]
  },
  {
   "cell_type": "code",
   "execution_count": 17,
   "metadata": {},
   "outputs": [
    {
     "data": {
      "text/plain": [
       "<AxesSubplot:xlabel='al', ylabel='household_actual'>"
      ]
     },
     "execution_count": 17,
     "metadata": {},
     "output_type": "execute_result"
    },
    {
     "data": {
      "image/png": "[encoded data removed]",
      "text/plain": [
       "<Figure size 432x288 with 1 Axes>"
      ]
     },
     "metadata": {
      "needs_background": "light"
     },
     "output_type": "display_data"
    }
   ],
   "source": [
    "# Plot logistic regression line \n",
    "sns.regplot(x='al', y='household_actual', data=glass_df, logistic=True, color='g')"
   ]
  },
  {
   "cell_type": "markdown",
   "metadata": {},
   "source": [
    "## Part 3: Examine and Compare Predictions\n",
    "***\n",
    "\n",
    "- **Linear Regression** will predict continuous outcomes and may be outside the range of 0 and 1\n",
    "- **Logistic Regression** can predict:\n",
    "    - Class Labels (0 or 1)\n",
    "    - Class Probabilities (0~1)"
   ]
  },
  {
   "cell_type": "markdown",
   "metadata": {},
   "source": [
    "**Examine Prediction Outcomes**"
   ]
  },
  {
   "cell_type": "code",
   "execution_count": 18,
   "metadata": {},
   "outputs": [
    {
     "data": {
      "text/html": [
       "<div>\n",
       "<style scoped>\n",
       "    .dataframe tbody tr th:only-of-type {\n",
       "        vertical-align: middle;\n",
       "    }\n",
       "\n",
       "    .dataframe tbody tr th {\n",
       "        vertical-align: top;\n",
       "    }\n",
       "\n",
       "    .dataframe thead th {\n",
       "        text-align: right;\n",
       "    }\n",
       "</style>\n",
       "<table border=\"1\" class=\"dataframe\">\n",
       "  <thead>\n",
       "    <tr style=\"text-align: right;\">\n",
       "      <th></th>\n",
       "      <th>al</th>\n",
       "      <th>household_actual</th>\n",
       "      <th>household_pred_linear</th>\n",
       "      <th>household_pred_log</th>\n",
       "      <th>household_pred_prob_log</th>\n",
       "    </tr>\n",
       "  </thead>\n",
       "  <tbody>\n",
       "    <tr>\n",
       "      <th>190</th>\n",
       "      <td>1.31</td>\n",
       "      <td>1</td>\n",
       "      <td>0.180486</td>\n",
       "      <td>0</td>\n",
       "      <td>0.333543</td>\n",
       "    </tr>\n",
       "    <tr>\n",
       "      <th>3</th>\n",
       "      <td>1.54</td>\n",
       "      <td>0</td>\n",
       "      <td>0.294269</td>\n",
       "      <td>0</td>\n",
       "      <td>0.479664</td>\n",
       "    </tr>\n",
       "    <tr>\n",
       "      <th>139</th>\n",
       "      <td>1.54</td>\n",
       "      <td>0</td>\n",
       "      <td>0.294269</td>\n",
       "      <td>0</td>\n",
       "      <td>0.479664</td>\n",
       "    </tr>\n",
       "    <tr>\n",
       "      <th>63</th>\n",
       "      <td>0.88</td>\n",
       "      <td>0</td>\n",
       "      <td>-0.032237</td>\n",
       "      <td>0</td>\n",
       "      <td>0.137744</td>\n",
       "    </tr>\n",
       "    <tr>\n",
       "      <th>140</th>\n",
       "      <td>1.64</td>\n",
       "      <td>0</td>\n",
       "      <td>0.343739</td>\n",
       "      <td>1</td>\n",
       "      <td>0.545915</td>\n",
       "    </tr>\n",
       "    <tr>\n",
       "      <th>73</th>\n",
       "      <td>1.52</td>\n",
       "      <td>0</td>\n",
       "      <td>0.284374</td>\n",
       "      <td>0</td>\n",
       "      <td>0.466424</td>\n",
       "    </tr>\n",
       "    <tr>\n",
       "      <th>49</th>\n",
       "      <td>0.79</td>\n",
       "      <td>0</td>\n",
       "      <td>-0.076760</td>\n",
       "      <td>0</td>\n",
       "      <td>0.111732</td>\n",
       "    </tr>\n",
       "    <tr>\n",
       "      <th>120</th>\n",
       "      <td>1.47</td>\n",
       "      <td>0</td>\n",
       "      <td>0.259639</td>\n",
       "      <td>0</td>\n",
       "      <td>0.433572</td>\n",
       "    </tr>\n",
       "    <tr>\n",
       "      <th>26</th>\n",
       "      <td>1.21</td>\n",
       "      <td>0</td>\n",
       "      <td>0.131016</td>\n",
       "      <td>0</td>\n",
       "      <td>0.277324</td>\n",
       "    </tr>\n",
       "    <tr>\n",
       "      <th>213</th>\n",
       "      <td>1.94</td>\n",
       "      <td>1</td>\n",
       "      <td>0.492150</td>\n",
       "      <td>1</td>\n",
       "      <td>0.727285</td>\n",
       "    </tr>\n",
       "  </tbody>\n",
       "</table>\n",
       "</div>"
      ],
      "text/plain": [
       "       al  household_actual  household_pred_linear  household_pred_log  \\\n",
       "190  1.31                 1               0.180486                   0   \n",
       "3    1.54                 0               0.294269                   0   \n",
       "139  1.54                 0               0.294269                   0   \n",
       "63   0.88                 0              -0.032237                   0   \n",
       "140  1.64                 0               0.343739                   1   \n",
       "73   1.52                 0               0.284374                   0   \n",
       "49   0.79                 0              -0.076760                   0   \n",
       "120  1.47                 0               0.259639                   0   \n",
       "26   1.21                 0               0.131016                   0   \n",
       "213  1.94                 1               0.492150                   1   \n",
       "\n",
       "     household_pred_prob_log  \n",
       "190                 0.333543  \n",
       "3                   0.479664  \n",
       "139                 0.479664  \n",
       "63                  0.137744  \n",
       "140                 0.545915  \n",
       "73                  0.466424  \n",
       "49                  0.111732  \n",
       "120                 0.433572  \n",
       "26                  0.277324  \n",
       "213                 0.727285  "
      ]
     },
     "execution_count": 18,
     "metadata": {},
     "output_type": "execute_result"
    }
   ],
   "source": [
    "# Examine the table\n",
    "glass_df.head(10)"
   ]
  },
  {
   "cell_type": "markdown",
   "metadata": {},
   "source": [
    "## Part 4: Model Evaluation\n",
    "***"
   ]
  },
  {
   "cell_type": "markdown",
   "metadata": {},
   "source": [
    "**Predict on test set**"
   ]
  },
  {
   "cell_type": "code",
   "execution_count": 19,
   "metadata": {},
   "outputs": [
    {
     "data": {
      "text/plain": [
       "array([0, 0, 1, 0, 0, 0, 0, 0, 1, 1, 1, 0, 0, 0, 0, 0, 1, 1, 1, 1, 1, 0,\n",
       "       1, 0, 0, 1, 0, 1, 0, 0, 0, 0, 1, 1, 0, 0, 1, 0, 0, 1, 1, 0, 0, 0,\n",
       "       0, 0, 0, 1, 0, 0, 0, 0, 0, 0, 0, 1, 0, 1, 1, 0, 0, 0, 0, 0, 0])"
      ]
     },
     "execution_count": 19,
     "metadata": {},
     "output_type": "execute_result"
    }
   ],
   "source": [
    "# Observe class predictions on test set\n",
    "y_pred = logistic_model.predict(X_test)\n",
    "y_pred"
   ]
  },
  {
   "cell_type": "code",
   "execution_count": 20,
   "metadata": {},
   "outputs": [
    {
     "data": {
      "text/plain": [
       "array([0, 0, 0, 0, 0, 0, 0, 0, 0, 1, 0, 0, 0, 0, 0, 0, 0, 1, 1, 1, 0, 0,\n",
       "       1, 0, 0, 1, 0, 1, 0, 0, 1, 0, 1, 0, 0, 0, 1, 1, 0, 1, 0, 0, 0, 0,\n",
       "       0, 0, 0, 0, 0, 0, 0, 0, 0, 0, 0, 1, 0, 1, 1, 0, 0, 0, 0, 0, 0])"
      ]
     },
     "execution_count": 20,
     "metadata": {},
     "output_type": "execute_result"
    }
   ],
   "source": [
    "np.array(y_test)"
   ]
  },
  {
   "cell_type": "code",
   "execution_count": 21,
   "metadata": {},
   "outputs": [
    {
     "name": "stdout",
     "output_type": "stream",
     "text": [
      "0.8461538461538461\n"
     ]
    }
   ],
   "source": [
    "from sklearn import metrics\n",
    "# Print Confusion Matrix.from sklearn import metrics\n",
    "# Print Confusion Matrix\n",
    "print (metrics.accuracy_score(y_test, y_pred))"
   ]
  },
  {
   "cell_type": "code",
   "execution_count": 22,
   "metadata": {},
   "outputs": [],
   "source": [
    "# Store predictions\n",
    "predicted = logistic_model.predict(X_test)"
   ]
  },
  {
   "cell_type": "markdown",
   "metadata": {},
   "source": [
    "### Confusion Matrix\n",
    "- **True Positive (TP)**: You predict it is household glass and it is\n",
    "- **True Negative (TN)**: You predict it is not household glass and it is not\n",
    "- **False Positive (FP)**: You predict it is household glass, but it is not\n",
    "- **False Negative (FN)**: You predict it is not household glass, but it is\n",
    "\n",
    "<img src='https://computersciencesource.files.wordpress.com/2010/01/conmat.png'>"
   ]
  },
  {
   "cell_type": "markdown",
   "metadata": {},
   "source": [
    "### Classification Report (Precision/Recall)\n",
    "- **Precision**: Focuses on your predictions. It is measuring what fraction of your predictions for the positive class are valid. It is formulated by (TP/TP+FP).\n",
    "- **Recall**: Focuses on all of the possible positive classes. It's telling you how often your predictions actually capture the positive class. It is formulated by (TP/TP+FN).\n",
    "- **F1-Score**: Tells you the accuracy of the classifier in classifying the data points in that particular class compared to all other class. It is calculated by taking the harmonic mean of precision and recall.\n",
    "- **Support**: The support is the number of samples of the true response that lies in that class.\n",
    "\n",
    "\n",
    "### So...Recall or Precision?\n",
    "\n",
    "It depends on how much cost/weight you want on your two types of errors: (1) **False Positives** or (2) **False Negatives**\n",
    "\n",
    "What's the coset of having a FN and FP?\n",
    "\n",
    "**Optimize Recall When:**\n",
    "- You want to limit false negatives \n",
    "- You will get more False Positives\n",
    "- When you want to peanlize FN more than FP\n",
    "- Example: Predicting Cancer Patients or Credit Card Fraud\n",
    "\n",
    "**Optimize Precision When:**\n",
    "- You want to limit false positives \n",
    "- When you want to peanlize FP more than FN\n",
    "- Example: Spam VS Not Spam"
   ]
  },
  {
   "cell_type": "code",
   "execution_count": 23,
   "metadata": {},
   "outputs": [
    {
     "name": "stdout",
     "output_type": "stream",
     "text": [
      "[[42  8]\n",
      " [ 2 13]]\n"
     ]
    }
   ],
   "source": [
    "from sklearn import metrics\n",
    "# Print Confusion Matrix\n",
    "print (metrics.confusion_matrix(y_test, predicted))"
   ]
  },
  {
   "cell_type": "code",
   "execution_count": 24,
   "metadata": {
    "scrolled": true
   },
   "outputs": [
    {
     "name": "stdout",
     "output_type": "stream",
     "text": [
      "              precision    recall  f1-score   support\n",
      "\n",
      "           0       0.95      0.84      0.89        50\n",
      "           1       0.62      0.87      0.72        15\n",
      "\n",
      "    accuracy                           0.85        65\n",
      "   macro avg       0.79      0.85      0.81        65\n",
      "weighted avg       0.88      0.85      0.85        65\n",
      "\n"
     ]
    }
   ],
   "source": [
    "print (metrics.classification_report(y_test, predicted))"
   ]
  },
  {
   "cell_type": "markdown",
   "metadata": {},
   "source": [
    "## Part 4: Logistic Regression Review\n",
    "***\n",
    "\n",
    "**Linear Regression Equation**: y=β0+β1x\n",
    "- Continuous response is modeled as a linear combination of the features\n",
    "\n",
    "**Logistic Regression Equation**: log(p/1−p)=β0+β1x\n",
    "- Log-odds of a categorical response being \"true\" (1) is modeled as a linear combination of the features:\n",
    "\n",
    "**Summary:**\n",
    "- Logistic regression outputs the probabilities of a specific class\n",
    "- Those probabilities can be converted into class predictions\n",
    "- It squishes the linear regression line into an \"s\" shape\n",
    "- Output is bounded by 0 and 1"
   ]
  },
  {
   "cell_type": "markdown",
   "metadata": {},
   "source": [
    "## Part 5: Interpretting Logistic Regression Coefficients\n",
    "***"
   ]
  },
  {
   "cell_type": "markdown",
   "metadata": {},
   "source": [
    "**Fit Logistic Regression on all Features**"
   ]
  },
  {
   "cell_type": "code",
   "execution_count": 25,
   "metadata": {},
   "outputs": [
    {
     "name": "stdout",
     "output_type": "stream",
     "text": [
      "Optimization terminated successfully.\n",
      "         Current function value: 0.133979\n",
      "         Iterations 10\n"
     ]
    }
   ],
   "source": [
    "# Let's use the statsmodel library \n",
    "import statsmodels.api as sm\n",
    "\n",
    "# Define independent variables\n",
    "iv = ['ri','na','mg','al','si','k','ca','ba','fe']\n",
    "\n",
    "# Fit the logistic regression function\n",
    "logReg = sm.Logit(df.household,df[iv])\n",
    "answer = logReg.fit()"
   ]
  },
  {
   "cell_type": "markdown",
   "metadata": {},
   "source": [
    "**Display Parameter Coefficients**"
   ]
  },
  {
   "cell_type": "markdown",
   "metadata": {},
   "source": [
    "Let's focus on **Aluminum (al)**:\n",
    "\n",
    "We can interpret this as follows - For a **1 unit increase in aluminum** we expect the **odds of it being a household glass** to increase by almost **two times (96%)**, holding everything else constant. "
   ]
  },
  {
   "cell_type": "code",
   "execution_count": 26,
   "metadata": {},
   "outputs": [
    {
     "data": {
      "text/plain": [
       "ri    6.809344e-22\n",
       "na    2.144886e+00\n",
       "mg    1.137911e-01\n",
       "al    1.960243e+02\n",
       "si    2.411822e+00\n",
       "k     3.884092e-01\n",
       "ca    6.799209e-01\n",
       "ba    1.906156e+00\n",
       "fe    1.726505e-04\n",
       "dtype: float64"
      ]
     },
     "execution_count": 26,
     "metadata": {},
     "output_type": "execute_result"
    }
   ],
   "source": [
    "# Display the parameter coefficients \n",
    "np.exp(answer.params)"
   ]
  },
  {
   "cell_type": "markdown",
   "metadata": {},
   "source": [
    "## Part 5: Exercise\n",
    "***\n",
    "\n",
    "Download employee retention dataset from here: https://www.kaggle.com/giripujar/hr-analytics.\n",
    "1. Perform some Exploratory Data Analysis (EDA) to find which features have an impact on the target feature (employee turnover).\n",
    "2. Plot the distribution of employee satisfaction, evaluation, and average monthly hours. \n",
    "3. Plot the distribution of the different departments with turnover/non-turnover employees\n",
    "4. Now build logistic regression model using all the features or features that you found were relevant.\n",
    "5. Measure the accuracy of the model"
   ]
  },
  {
   "cell_type": "code",
   "execution_count": null,
   "metadata": {},
   "outputs": [],
   "source": []
  },
  {
   "cell_type": "code",
   "execution_count": null,
   "metadata": {},
   "outputs": [],
   "source": []
  }
 ],
 "metadata": {
  "kernelspec": {
   "display_name": "Python 3",
   "language": "python",
   "name": "python3"
  },
  "language_info": {
   "codemirror_mode": {
    "name": "ipython",
    "version": 3
   },
   "file_extension": ".py",
   "mimetype": "text/x-python",
   "name": "python",
   "nbconvert_exporter": "python",
   "pygments_lexer": "ipython3",
   "version": "3.6.8"
  }
 },
 "nbformat": 4,
 "nbformat_minor": 2
}
