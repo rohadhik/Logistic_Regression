{
 "cells": [
  {
   "cell_type": "markdown",
   "metadata": {},
   "source": [
    "# Logistic Regression Activity\n",
    "***"
   ]
  },
  {
   "cell_type": "markdown",
   "metadata": {},
   "source": [
    "### Table of Content\n",
    "1. Predict with Linear Regression\n",
    "2. Predict with Logsitic Regression\n",
    "3. Examine and Compare Predictions (Hard Predictions versus Soft Predictions)\n",
    "4. Model Evaluation\n",
    "5. Explain how to interpret logistic regression coefficients\n",
    "6. Homework Exercise and Questions"
   ]
  },
  {
   "cell_type": "markdown",
   "metadata": {},
   "source": [
    "Let's do it! We'll learn about logistic regression by examining a glass dataset."
   ]
  },
  {
   "cell_type": "code",
   "execution_count": 1,
   "metadata": {},
   "outputs": [],
   "source": [
    "# Import Libraries\n",
    "import pandas as pd\n",
    "import seaborn as sns\n",
    "import numpy as np\n",
    "import matplotlib.pyplot as plt\n",
    "%matplotlib inline"
   ]
  },
  {
   "cell_type": "markdown",
   "metadata": {},
   "source": [
    "**Get the glass dataset**"
   ]
  },
  {
   "cell_type": "code",
   "execution_count": 2,
   "metadata": {},
   "outputs": [
    {
     "data": {
      "text/html": [
       "<div>\n",
       "<style scoped>\n",
       "    .dataframe tbody tr th:only-of-type {\n",
       "        vertical-align: middle;\n",
       "    }\n",
       "\n",
       "    .dataframe tbody tr th {\n",
       "        vertical-align: top;\n",
       "    }\n",
       "\n",
       "    .dataframe thead th {\n",
       "        text-align: right;\n",
       "    }\n",
       "</style>\n",
       "<table border=\"1\" class=\"dataframe\">\n",
       "  <thead>\n",
       "    <tr style=\"text-align: right;\">\n",
       "      <th></th>\n",
       "      <th>ri</th>\n",
       "      <th>na</th>\n",
       "      <th>mg</th>\n",
       "      <th>al</th>\n",
       "      <th>si</th>\n",
       "      <th>k</th>\n",
       "      <th>ca</th>\n",
       "      <th>ba</th>\n",
       "      <th>fe</th>\n",
       "      <th>glass_type</th>\n",
       "    </tr>\n",
       "  </thead>\n",
       "  <tbody>\n",
       "    <tr>\n",
       "      <th>1</th>\n",
       "      <td>1.52101</td>\n",
       "      <td>13.64</td>\n",
       "      <td>4.49</td>\n",
       "      <td>1.10</td>\n",
       "      <td>71.78</td>\n",
       "      <td>0.06</td>\n",
       "      <td>8.75</td>\n",
       "      <td>0.0</td>\n",
       "      <td>0.0</td>\n",
       "      <td>1</td>\n",
       "    </tr>\n",
       "    <tr>\n",
       "      <th>2</th>\n",
       "      <td>1.51761</td>\n",
       "      <td>13.89</td>\n",
       "      <td>3.60</td>\n",
       "      <td>1.36</td>\n",
       "      <td>72.73</td>\n",
       "      <td>0.48</td>\n",
       "      <td>7.83</td>\n",
       "      <td>0.0</td>\n",
       "      <td>0.0</td>\n",
       "      <td>1</td>\n",
       "    </tr>\n",
       "    <tr>\n",
       "      <th>3</th>\n",
       "      <td>1.51618</td>\n",
       "      <td>13.53</td>\n",
       "      <td>3.55</td>\n",
       "      <td>1.54</td>\n",
       "      <td>72.99</td>\n",
       "      <td>0.39</td>\n",
       "      <td>7.78</td>\n",
       "      <td>0.0</td>\n",
       "      <td>0.0</td>\n",
       "      <td>1</td>\n",
       "    </tr>\n",
       "    <tr>\n",
       "      <th>4</th>\n",
       "      <td>1.51766</td>\n",
       "      <td>13.21</td>\n",
       "      <td>3.69</td>\n",
       "      <td>1.29</td>\n",
       "      <td>72.61</td>\n",
       "      <td>0.57</td>\n",
       "      <td>8.22</td>\n",
       "      <td>0.0</td>\n",
       "      <td>0.0</td>\n",
       "      <td>1</td>\n",
       "    </tr>\n",
       "    <tr>\n",
       "      <th>5</th>\n",
       "      <td>1.51742</td>\n",
       "      <td>13.27</td>\n",
       "      <td>3.62</td>\n",
       "      <td>1.24</td>\n",
       "      <td>73.08</td>\n",
       "      <td>0.55</td>\n",
       "      <td>8.07</td>\n",
       "      <td>0.0</td>\n",
       "      <td>0.0</td>\n",
       "      <td>1</td>\n",
       "    </tr>\n",
       "  </tbody>\n",
       "</table>\n",
       "</div>"
      ],
      "text/plain": [
       "        ri     na    mg    al     si     k    ca   ba   fe  glass_type\n",
       "1  1.52101  13.64  4.49  1.10  71.78  0.06  8.75  0.0  0.0           1\n",
       "2  1.51761  13.89  3.60  1.36  72.73  0.48  7.83  0.0  0.0           1\n",
       "3  1.51618  13.53  3.55  1.54  72.99  0.39  7.78  0.0  0.0           1\n",
       "4  1.51766  13.21  3.69  1.29  72.61  0.57  8.22  0.0  0.0           1\n",
       "5  1.51742  13.27  3.62  1.24  73.08  0.55  8.07  0.0  0.0           1"
      ]
     },
     "execution_count": 2,
     "metadata": {},
     "output_type": "execute_result"
    }
   ],
   "source": [
    "url = 'http://archive.ics.uci.edu/ml/machine-learning-databases/glass/glass.data'\n",
    "col_names = ['ri','na','mg','al','si','k','ca','ba','fe','glass_type']\n",
    "df = pd.read_csv(url, names=col_names)\n",
    "df.head()"
   ]
  },
  {
   "cell_type": "code",
   "execution_count": 3,
   "metadata": {},
   "outputs": [
    {
     "data": {
      "text/plain": [
       "2    76\n",
       "1    70\n",
       "7    29\n",
       "3    17\n",
       "5    13\n",
       "6     9\n",
       "Name: glass_type, dtype: int64"
      ]
     },
     "execution_count": 3,
     "metadata": {},
     "output_type": "execute_result"
    }
   ],
   "source": [
    "df.glass_type.value_counts()"
   ]
  },
  {
   "cell_type": "markdown",
   "metadata": {},
   "source": [
    "**Look at class labels**\n",
    "\n",
    "Type of glass: (class attribute) http://archive.ics.uci.edu/ml/machine-learning-databases/glass/glass.names\n",
    "\n",
    "**Window Glass:**\n",
    "- 1 building_windows_float_processed\n",
    "- 2 building_windows_non_float_processed\n",
    "- 3 vehicle_windows_float_processed\n",
    "- 4 vehicle_windows_non_float_processed (none in this database)\n",
    "\n",
    "**Non-Window Glass:**\n",
    "- 5 containers\n",
    "- 6 tableware\n",
    "- 7 headlamps"
   ]
  },
  {
   "cell_type": "code",
   "execution_count": 4,
   "metadata": {},
   "outputs": [
    {
     "data": {
      "text/plain": [
       "1    70\n",
       "2    76\n",
       "3    17\n",
       "5    13\n",
       "6     9\n",
       "7    29\n",
       "Name: glass_type, dtype: int64"
      ]
     },
     "execution_count": 4,
     "metadata": {},
     "output_type": "execute_result"
    }
   ],
   "source": [
    "# Display class values\n",
    "df.glass_type.value_counts().sort_index()"
   ]
  },
  {
   "cell_type": "markdown",
   "metadata": {},
   "source": [
    "**Convert the target feature into a binary feature (glass vs non-window glass)**"
   ]
  },
  {
   "cell_type": "code",
   "execution_count": 5,
   "metadata": {},
   "outputs": [
    {
     "data": {
      "text/html": [
       "<div>\n",
       "<style scoped>\n",
       "    .dataframe tbody tr th:only-of-type {\n",
       "        vertical-align: middle;\n",
       "    }\n",
       "\n",
       "    .dataframe tbody tr th {\n",
       "        vertical-align: top;\n",
       "    }\n",
       "\n",
       "    .dataframe thead th {\n",
       "        text-align: right;\n",
       "    }\n",
       "</style>\n",
       "<table border=\"1\" class=\"dataframe\">\n",
       "  <thead>\n",
       "    <tr style=\"text-align: right;\">\n",
       "      <th></th>\n",
       "      <th>ri</th>\n",
       "      <th>na</th>\n",
       "      <th>mg</th>\n",
       "      <th>al</th>\n",
       "      <th>si</th>\n",
       "      <th>k</th>\n",
       "      <th>ca</th>\n",
       "      <th>ba</th>\n",
       "      <th>fe</th>\n",
       "      <th>glass_type</th>\n",
       "      <th>household</th>\n",
       "    </tr>\n",
       "  </thead>\n",
       "  <tbody>\n",
       "    <tr>\n",
       "      <th>1</th>\n",
       "      <td>1.52101</td>\n",
       "      <td>13.64</td>\n",
       "      <td>4.49</td>\n",
       "      <td>1.10</td>\n",
       "      <td>71.78</td>\n",
       "      <td>0.06</td>\n",
       "      <td>8.75</td>\n",
       "      <td>0.0</td>\n",
       "      <td>0.0</td>\n",
       "      <td>1</td>\n",
       "      <td>0</td>\n",
       "    </tr>\n",
       "    <tr>\n",
       "      <th>2</th>\n",
       "      <td>1.51761</td>\n",
       "      <td>13.89</td>\n",
       "      <td>3.60</td>\n",
       "      <td>1.36</td>\n",
       "      <td>72.73</td>\n",
       "      <td>0.48</td>\n",
       "      <td>7.83</td>\n",
       "      <td>0.0</td>\n",
       "      <td>0.0</td>\n",
       "      <td>1</td>\n",
       "      <td>0</td>\n",
       "    </tr>\n",
       "    <tr>\n",
       "      <th>3</th>\n",
       "      <td>1.51618</td>\n",
       "      <td>13.53</td>\n",
       "      <td>3.55</td>\n",
       "      <td>1.54</td>\n",
       "      <td>72.99</td>\n",
       "      <td>0.39</td>\n",
       "      <td>7.78</td>\n",
       "      <td>0.0</td>\n",
       "      <td>0.0</td>\n",
       "      <td>1</td>\n",
       "      <td>0</td>\n",
       "    </tr>\n",
       "    <tr>\n",
       "      <th>4</th>\n",
       "      <td>1.51766</td>\n",
       "      <td>13.21</td>\n",
       "      <td>3.69</td>\n",
       "      <td>1.29</td>\n",
       "      <td>72.61</td>\n",
       "      <td>0.57</td>\n",
       "      <td>8.22</td>\n",
       "      <td>0.0</td>\n",
       "      <td>0.0</td>\n",
       "      <td>1</td>\n",
       "      <td>0</td>\n",
       "    </tr>\n",
       "    <tr>\n",
       "      <th>5</th>\n",
       "      <td>1.51742</td>\n",
       "      <td>13.27</td>\n",
       "      <td>3.62</td>\n",
       "      <td>1.24</td>\n",
       "      <td>73.08</td>\n",
       "      <td>0.55</td>\n",
       "      <td>8.07</td>\n",
       "      <td>0.0</td>\n",
       "      <td>0.0</td>\n",
       "      <td>1</td>\n",
       "      <td>0</td>\n",
       "    </tr>\n",
       "  </tbody>\n",
       "</table>\n",
       "</div>"
      ],
      "text/plain": [
       "        ri     na    mg    al     si     k    ca   ba   fe  glass_type  \\\n",
       "1  1.52101  13.64  4.49  1.10  71.78  0.06  8.75  0.0  0.0           1   \n",
       "2  1.51761  13.89  3.60  1.36  72.73  0.48  7.83  0.0  0.0           1   \n",
       "3  1.51618  13.53  3.55  1.54  72.99  0.39  7.78  0.0  0.0           1   \n",
       "4  1.51766  13.21  3.69  1.29  72.61  0.57  8.22  0.0  0.0           1   \n",
       "5  1.51742  13.27  3.62  1.24  73.08  0.55  8.07  0.0  0.0           1   \n",
       "\n",
       "   household  \n",
       "1          0  \n",
       "2          0  \n",
       "3          0  \n",
       "4          0  \n",
       "5          0  "
      ]
     },
     "execution_count": 5,
     "metadata": {},
     "output_type": "execute_result"
    }
   ],
   "source": [
    "# glass_type 1, 2, 3 are window glass\n",
    "# glass_type 5, 6, 7 are non-window glass\n",
    "df['household'] = df.glass_type.map({1:0, 2:0, 3:0, 5:1, 6:1, 7:1})\n",
    "df.head()"
   ]
  },
  {
   "cell_type": "markdown",
   "metadata": {},
   "source": [
    "**Let's plot Aluminum (al) vs household**"
   ]
  },
  {
   "cell_type": "code",
   "execution_count": 6,
   "metadata": {},
   "outputs": [
    {
     "data": {
      "text/plain": [
       "Text(0, 0.5, 'household')"
      ]
     },
     "execution_count": 6,
     "metadata": {},
     "output_type": "execute_result"
    },
    {
     "data": {
      "image/png": "[encoded data removed]",
      "text/plain": [
       "<Figure size 432x288 with 1 Axes>"
      ]
     },
     "metadata": {
      "needs_background": "light"
     },
     "output_type": "display_data"
    }
   ],
   "source": [
    "plt.scatter(df.al, df.household)\n",
    "plt.xlabel('al')\n",
    "plt.ylabel('household')"
   ]
  },
  {
   "cell_type": "markdown",
   "metadata": {},
   "source": [
    "**Create Train/Test Split**"
   ]
  },
  {
   "cell_type": "code",
   "execution_count": 7,
   "metadata": {},
   "outputs": [],
   "source": [
    "from sklearn.model_selection import train_test_split\n",
    "X_train, X_test, y_train, y_test = train_test_split(df[['al']],df.household,train_size=0.7)"
   ]
  },
  {
   "cell_type": "markdown",
   "metadata": {},
   "source": [
    "## Part 1: Predicting with Linear Regression\n",
    "***"
   ]
  },
  {
   "cell_type": "markdown",
   "metadata": {},
   "source": [
    "**Create and Train Linear Regression Model**"
   ]
  },
  {
   "cell_type": "code",
   "execution_count": 8,
   "metadata": {},
   "outputs": [],
   "source": [
    "from sklearn.linear_model import LinearRegression"
   ]
  },
  {
   "cell_type": "code",
   "execution_count": 9,
   "metadata": {},
   "outputs": [],
   "source": [
    "# Fit the model\n",
    "linear_model = LinearRegression()\n",
    "linear_model = linear_model.fit(X_train, y_train)"
   ]
  },
  {
   "cell_type": "markdown",
   "metadata": {},
   "source": [
    "**Predict with Linear Regression Model**"
   ]
  },
  {
   "cell_type": "code",
   "execution_count": 14,
   "metadata": {},
   "outputs": [],
   "source": [
    "# Create a seperate table to store predictions\n",
    "glass_df = X_train[['al']]\n",
    "glass_df['household_actual'] = y_train\n",
    "\n",
    "# Predict with Linear Regression\n",
    "glass_df['household_pred_linear'] = linear_model.predict(X_train)"
   ]
  },
  {
   "cell_type": "markdown",
   "metadata": {},
   "source": [
    "**Observe Linear Regression Predictions**\n",
    "\n",
    "Notice how there are some numbers below 0 and above 1 (NOT GOOD)"
   ]
  },
  {
   "cell_type": "code",
   "execution_count": 16,
   "metadata": {
    "scrolled": true
   },
   "outputs": [
    {
     "data": {
      "text/plain": [
       "array([ 0.42285337,  0.27205266,  0.10179378,  0.1407101 ,  0.17476187,\n",
       "        0.53960232,  0.52014416,  0.83147467,  0.23800088,  0.23313634,\n",
       "        0.05801293,  0.39366614,  0.19422003,  0.08233562,  0.17962641,\n",
       "        0.25745904,  0.19908457,  0.41798883,  0.19422003,  0.38393706,\n",
       "       -0.05873602,  0.1163874 ,  0.1163874 ,  0.28664627,  0.16503279,\n",
       "       -0.08305871,  0.15530371,  0.17962641,  0.13584556,  0.36934344,\n",
       "        0.2525945 , -0.06360055,  0.25745904,  0.29637535,  0.23313634,\n",
       "        0.15043917, -0.11711049, -0.14143318,  0.10179378,  0.71472573,\n",
       "        0.07747108,  0.59311225,  0.19422003, -0.0198197 ,  0.29637535,\n",
       "        0.69526757, -0.29709844, -0.02954878,  0.21854272,  0.29151081,\n",
       "        0.18449095, -0.05873602, -0.14629772,  0.16016825,  0.07747108,\n",
       "        0.33529167,  0.11152286,  0.12125194,  0.32069805, -0.03927786,\n",
       "        0.1163874 ,  0.23313634,  0.22340726,  0.28664627, -0.08792325,\n",
       "        0.29637535,  0.16503279,  0.35961436,  0.84120375,  0.21854272,\n",
       "        0.18449095,  0.28664627,  0.34015621,  0.15043917,  0.16016825,\n",
       "        0.10665832,  0.40825976,  0.28178173,  0.32556259,  0.32556259,\n",
       "        0.1163874 ,  0.1163874 ,  0.30610443,  0.07260655,  1.24009597,\n",
       "        0.67580942,  0.30123989,  0.16989733,  0.20881365,  0.34502074,\n",
       "        0.15043917,  0.75850658,  0.23800088,  0.2525945 ,  0.29637535,\n",
       "        0.33042713,  0.26232358,  0.28664627,  0.11152286,  0.13584556,\n",
       "        0.87039099, -0.03927786, -0.02468424,  0.13584556,  0.33042713,\n",
       "        0.32556259,  0.06287747,  0.40825976,  0.22340726,  0.93849454,\n",
       "        0.14557463,  0.2525945 ,  0.54933139,  0.27691719,  0.19908457,\n",
       "        0.50555054, -0.13656864,  0.05314839, -0.19007858,  0.02396115,\n",
       "       -0.32142114,  0.15530371,  0.09692924,  0.13584556, -0.19007858,\n",
       "        0.14557463,  0.02396115,  0.27691719,  0.17476187,  0.44717607,\n",
       "        0.63202856,  0.42771791,  0.19908457,  0.55906047,  0.16503279,\n",
       "        0.56878955,  0.16503279,  0.23313634,  0.55419593,  0.1407101 ,\n",
       "        0.12611648, -0.11224595,  0.11152286,  0.51041508,  0.13098102,\n",
       "        0.30123989,  0.20394911,  0.48122784,  0.16016825])"
      ]
     },
     "execution_count": 16,
     "metadata": {},
     "output_type": "execute_result"
    }
   ],
   "source": [
    "# Examine the first 15 linear regression predictions\n",
    "linear_model.predict(X_train)"
   ]
  },
  {
   "cell_type": "markdown",
   "metadata": {},
   "source": [
    "### Plot Linear Regression\n",
    "\n",
    "What is the problem here?\n",
    "- Linear regression is making predictions outside the range of 0 and 1"
   ]
  },
  {
   "cell_type": "code",
   "execution_count": 17,
   "metadata": {},
   "outputs": [
    {
     "data": {
      "text/plain": [
       "<AxesSubplot:xlabel='al', ylabel='household_actual'>"
      ]
     },
     "execution_count": 17,
     "metadata": {},
     "output_type": "execute_result"
    },
    {
     "data": {
      "image/png": "[encoded data removed]",
      "text/plain": [
       "<Figure size 432x288 with 1 Axes>"
      ]
     },
     "metadata": {
      "needs_background": "light"
     },
     "output_type": "display_data"
    }
   ],
   "source": [
    "# Plot Linear Regression Line\n",
    "sns.regplot(x='al', y='household_actual', data=glass_df, logistic=False)"
   ]
  },
  {
   "cell_type": "markdown",
   "metadata": {},
   "source": [
    "## Part 2: Predicting with Logistic Regression\n",
    "***"
   ]
  },
  {
   "cell_type": "markdown",
   "metadata": {},
   "source": [
    "**Create and Train Logistic Regression Model**"
   ]
  },
  {
   "cell_type": "code",
   "execution_count": 18,
   "metadata": {},
   "outputs": [],
   "source": [
    "from sklearn.linear_model import LogisticRegression"
   ]
  },
  {
   "cell_type": "code",
   "execution_count": 19,
   "metadata": {},
   "outputs": [],
   "source": [
    "# Fit logistic regression model\n",
    "logistic_model = LogisticRegression(class_weight='balanced')\n",
    "logistic_model = logistic_model.fit(X_train, y_train)"
   ]
  },
  {
   "cell_type": "markdown",
   "metadata": {},
   "source": [
    "### Predict Class Probabilities & Class Predictions"
   ]
  },
  {
   "cell_type": "markdown",
   "metadata": {},
   "source": [
    "Logistic Regression allows you to make two types of predictions:\n",
    "    1. Hard Predictions: Using the predict() will output the class predictions\n",
    "    2. Soft Predictions: Using the predict_proba() will output the class probabilities"
   ]
  },
  {
   "cell_type": "markdown",
   "metadata": {},
   "source": [
    "**Hard Prediction (Class Label)**\n",
    "\n",
    "Class Labels:\n",
    "- Negative class is 0\n",
    "- Positive class is 1"
   ]
  },
  {
   "cell_type": "code",
   "execution_count": 20,
   "metadata": {
    "scrolled": true
   },
   "outputs": [
    {
     "data": {
      "text/plain": [
       "array([1, 0, 0, 0, 0, 1, 1, 1, 0, 0, 0, 1, 0, 0, 0])"
      ]
     },
     "execution_count": 20,
     "metadata": {},
     "output_type": "execute_result"
    }
   ],
   "source": [
    "# Make class label predictions\n",
    "logistic_model.predict(X_train)[:15]"
   ]
  },
  {
   "cell_type": "markdown",
   "metadata": {},
   "source": [
    "**Soft Prediction (Probability Scores)**\n",
    "\n",
    "Class Probabilities:\n",
    "- First column is the predicted probability of **class 0**\n",
    "- Second column is the predicted probability of **class 1**"
   ]
  },
  {
   "cell_type": "code",
   "execution_count": 21,
   "metadata": {
    "scrolled": true
   },
   "outputs": [
    {
     "data": {
      "text/plain": [
       "array([[0.35408304, 0.64591696],\n",
       "       [0.53801347, 0.46198653],\n",
       "       [0.73165966, 0.26834034],\n",
       "       [0.69181344, 0.30818656],\n",
       "       [0.65440723, 0.34559277],\n",
       "       [0.23424682, 0.76575318],\n",
       "       [0.25213452, 0.74786548],\n",
       "       [0.06643124, 0.93356876],\n",
       "       [0.579931  , 0.420069  ],\n",
       "       [0.58584045, 0.41415955],\n",
       "       [0.77238258, 0.22761742],\n",
       "       [0.38810062, 0.61189938],\n",
       "       [0.63210188, 0.36789812],\n",
       "       [0.75031323, 0.24968677],\n",
       "       [0.64888978, 0.35111022]])"
      ]
     },
     "execution_count": 21,
     "metadata": {},
     "output_type": "execute_result"
    }
   ],
   "source": [
    "# Make class probability predictions\n",
    "logistic_model.predict_proba(X_train)[:15]"
   ]
  },
  {
   "cell_type": "code",
   "execution_count": 22,
   "metadata": {},
   "outputs": [],
   "source": [
    "# Predict with Logistic Regression\n",
    "glass_df['household_pred_log'] = logistic_model.predict(X_train)\n",
    "\n",
    "# Predict Probability with Logistic Regression\n",
    "glass_df['household_pred_prob_log'] = logistic_model.predict_proba(X_train)[:,1]"
   ]
  },
  {
   "cell_type": "markdown",
   "metadata": {},
   "source": [
    "### Plot Logistic Regression\n",
    "\n",
    "This is a lot better. Logistic Regression outcomes are within the range of 0 and 1."
   ]
  },
  {
   "cell_type": "code",
   "execution_count": 23,
   "metadata": {},
   "outputs": [
    {
     "data": {
      "text/plain": [
       "<AxesSubplot:xlabel='al', ylabel='household_actual'>"
      ]
     },
     "execution_count": 23,
     "metadata": {},
     "output_type": "execute_result"
    },
    {
     "data": {
      "image/png": "[encoded data removed]",
      "text/plain": [
       "<Figure size 432x288 with 1 Axes>"
      ]
     },
     "metadata": {
      "needs_background": "light"
     },
     "output_type": "display_data"
    }
   ],
   "source": [
    "# Plot logistic regression line \n",
    "sns.regplot(x='al', y='household_actual', data=glass_df, logistic=True, color='g')"
   ]
  },
  {
   "cell_type": "markdown",
   "metadata": {},
   "source": [
    "## Part 3: Examine and Compare Predictions\n",
    "***\n",
    "\n",
    "- **Linear Regression** will predict continuous outcomes and may be outside the range of 0 and 1\n",
    "- **Logistic Regression** can predict:\n",
    "    - Class Labels (0 or 1)\n",
    "    - Class Probabilities (0~1)"
   ]
  },
  {
   "cell_type": "markdown",
   "metadata": {},
   "source": [
    "**Examine Prediction Outcomes**"
   ]
  },
  {
   "cell_type": "code",
   "execution_count": 24,
   "metadata": {},
   "outputs": [
    {
     "data": {
      "text/html": [
       "<div>\n",
       "<style scoped>\n",
       "    .dataframe tbody tr th:only-of-type {\n",
       "        vertical-align: middle;\n",
       "    }\n",
       "\n",
       "    .dataframe tbody tr th {\n",
       "        vertical-align: top;\n",
       "    }\n",
       "\n",
       "    .dataframe thead th {\n",
       "        text-align: right;\n",
       "    }\n",
       "</style>\n",
       "<table border=\"1\" class=\"dataframe\">\n",
       "  <thead>\n",
       "    <tr style=\"text-align: right;\">\n",
       "      <th></th>\n",
       "      <th>al</th>\n",
       "      <th>household_actual</th>\n",
       "      <th>household_pred_linear</th>\n",
       "      <th>household_pred_log</th>\n",
       "      <th>household_pred_prob_log</th>\n",
       "    </tr>\n",
       "  </thead>\n",
       "  <tbody>\n",
       "    <tr>\n",
       "      <th>208</th>\n",
       "      <td>1.82</td>\n",
       "      <td>1</td>\n",
       "      <td>0.422853</td>\n",
       "      <td>1</td>\n",
       "      <td>0.645917</td>\n",
       "    </tr>\n",
       "    <tr>\n",
       "      <th>76</th>\n",
       "      <td>1.51</td>\n",
       "      <td>0</td>\n",
       "      <td>0.272053</td>\n",
       "      <td>0</td>\n",
       "      <td>0.461987</td>\n",
       "    </tr>\n",
       "    <tr>\n",
       "      <th>17</th>\n",
       "      <td>1.16</td>\n",
       "      <td>0</td>\n",
       "      <td>0.101794</td>\n",
       "      <td>0</td>\n",
       "      <td>0.268340</td>\n",
       "    </tr>\n",
       "    <tr>\n",
       "      <th>5</th>\n",
       "      <td>1.24</td>\n",
       "      <td>0</td>\n",
       "      <td>0.140710</td>\n",
       "      <td>0</td>\n",
       "      <td>0.308187</td>\n",
       "    </tr>\n",
       "    <tr>\n",
       "      <th>190</th>\n",
       "      <td>1.31</td>\n",
       "      <td>1</td>\n",
       "      <td>0.174762</td>\n",
       "      <td>0</td>\n",
       "      <td>0.345593</td>\n",
       "    </tr>\n",
       "    <tr>\n",
       "      <th>189</th>\n",
       "      <td>2.06</td>\n",
       "      <td>1</td>\n",
       "      <td>0.539602</td>\n",
       "      <td>1</td>\n",
       "      <td>0.765753</td>\n",
       "    </tr>\n",
       "    <tr>\n",
       "      <th>212</th>\n",
       "      <td>2.02</td>\n",
       "      <td>1</td>\n",
       "      <td>0.520144</td>\n",
       "      <td>1</td>\n",
       "      <td>0.747865</td>\n",
       "    </tr>\n",
       "    <tr>\n",
       "      <th>199</th>\n",
       "      <td>2.66</td>\n",
       "      <td>1</td>\n",
       "      <td>0.831475</td>\n",
       "      <td>1</td>\n",
       "      <td>0.933569</td>\n",
       "    </tr>\n",
       "    <tr>\n",
       "      <th>143</th>\n",
       "      <td>1.44</td>\n",
       "      <td>0</td>\n",
       "      <td>0.238001</td>\n",
       "      <td>0</td>\n",
       "      <td>0.420069</td>\n",
       "    </tr>\n",
       "    <tr>\n",
       "      <th>100</th>\n",
       "      <td>1.43</td>\n",
       "      <td>0</td>\n",
       "      <td>0.233136</td>\n",
       "      <td>0</td>\n",
       "      <td>0.414160</td>\n",
       "    </tr>\n",
       "  </tbody>\n",
       "</table>\n",
       "</div>"
      ],
      "text/plain": [
       "       al  household_actual  household_pred_linear  household_pred_log  \\\n",
       "208  1.82                 1               0.422853                   1   \n",
       "76   1.51                 0               0.272053                   0   \n",
       "17   1.16                 0               0.101794                   0   \n",
       "5    1.24                 0               0.140710                   0   \n",
       "190  1.31                 1               0.174762                   0   \n",
       "189  2.06                 1               0.539602                   1   \n",
       "212  2.02                 1               0.520144                   1   \n",
       "199  2.66                 1               0.831475                   1   \n",
       "143  1.44                 0               0.238001                   0   \n",
       "100  1.43                 0               0.233136                   0   \n",
       "\n",
       "     household_pred_prob_log  \n",
       "208                 0.645917  \n",
       "76                  0.461987  \n",
       "17                  0.268340  \n",
       "5                   0.308187  \n",
       "190                 0.345593  \n",
       "189                 0.765753  \n",
       "212                 0.747865  \n",
       "199                 0.933569  \n",
       "143                 0.420069  \n",
       "100                 0.414160  "
      ]
     },
     "execution_count": 24,
     "metadata": {},
     "output_type": "execute_result"
    }
   ],
   "source": [
    "# Examine the table\n",
    "glass_df.head(10)"
   ]
  },
  {
   "cell_type": "markdown",
   "metadata": {},
   "source": [
    "## Part 4: Model Evaluation\n",
    "***"
   ]
  },
  {
   "cell_type": "markdown",
   "metadata": {},
   "source": [
    "**Predict on test set**"
   ]
  },
  {
   "cell_type": "code",
   "execution_count": 31,
   "metadata": {},
   "outputs": [
    {
     "data": {
      "text/plain": [
       "array([0, 1, 1, 0, 0, 0, 1, 0, 1, 0, 1, 1, 1, 0, 0, 0, 0, 1, 1, 1, 0, 0,\n",
       "       0, 0, 0, 0, 0, 0, 0, 0, 1, 0, 1, 0, 0, 0, 0, 1, 1, 0, 0, 0, 0, 0,\n",
       "       1, 0, 0, 1, 0, 0, 0, 1, 0, 0, 1, 0, 1, 1, 0, 0, 0, 1, 0, 0, 0])"
      ]
     },
     "execution_count": 31,
     "metadata": {},
     "output_type": "execute_result"
    }
   ],
   "source": [
    "# Observe class predictions on test set\n",
    "y_pred = logistic_model.predict(X_test)\n",
    "y_pred"
   ]
  },
  {
   "cell_type": "code",
   "execution_count": 32,
   "metadata": {},
   "outputs": [
    {
     "data": {
      "text/plain": [
       "array([0, 1, 1, 0, 0, 0, 0, 0, 1, 0, 0, 0, 1, 0, 0, 0, 0, 1, 1, 1, 1, 0,\n",
       "       0, 0, 0, 0, 0, 0, 0, 0, 0, 1, 0, 1, 0, 0, 0, 0, 1, 0, 0, 0, 1, 0,\n",
       "       0, 0, 0, 1, 0, 0, 0, 1, 0, 0, 1, 0, 0, 0, 0, 0, 0, 1, 0, 0, 0])"
      ]
     },
     "execution_count": 32,
     "metadata": {},
     "output_type": "execute_result"
    }
   ],
   "source": [
    "np.array(y_test)"
   ]
  },
  {
   "cell_type": "code",
   "execution_count": 35,
   "metadata": {},
   "outputs": [
    {
     "name": "stdout",
     "output_type": "stream",
     "text": [
      "0.8\n"
     ]
    }
   ],
   "source": [
    "from sklearn import metrics\n",
    "# Print Confusion Matrix.from sklearn import metrics\n",
    "# Print Confusion Matrix\n",
    "print (metrics.accuracy_score(y_test, y_pred))"
   ]
  },
  {
   "cell_type": "code",
   "execution_count": 36,
   "metadata": {},
   "outputs": [],
   "source": [
    "# Store predictions\n",
    "predicted = logistic_model.predict(X_test)"
   ]
  },
  {
   "cell_type": "markdown",
   "metadata": {},
   "source": [
    "### Confusion Matrix\n",
    "- **True Positive (TP)**: You predict it is household glass and it is\n",
    "- **True Negative (TN)**: You predict it is not household glass and it is not\n",
    "- **False Positive (FP)**: You predict it is household glass, but it is not\n",
    "- **False Negative (FN)**: You predict it is not household glass, but it is\n",
    "\n",
    "<img src='https://computersciencesource.files.wordpress.com/2010/01/conmat.png'>"
   ]
  },
  {
   "cell_type": "markdown",
   "metadata": {},
   "source": [
    "### Classification Report (Precision/Recall)\n",
    "- **Precision**: Focuses on your predictions. It is measuring what fraction of your predictions for the positive class are valid. It is formulated by (TP/TP+FP).\n",
    "- **Recall**: Focuses on all of the possible positive classes. It's telling you how often your predictions actually capture the positive class. It is formulated by (TP/TP+FN).\n",
    "- **F1-Score**: Tells you the accuracy of the classifier in classifying the data points in that particular class compared to all other class. It is calculated by taking the harmonic mean of precision and recall.\n",
    "- **Support**: The support is the number of samples of the true response that lies in that class.\n",
    "\n",
    "\n",
    "### So...Recall or Precision?\n",
    "\n",
    "It depends on how much cost/weight you want on your two types of errors: (1) **False Positives** or (2) **False Negatives**\n",
    "\n",
    "What's the coset of having a FN and FP?\n",
    "\n",
    "**Optimize Recall When:**\n",
    "- You want to limit false negatives \n",
    "- You will get more False Positives\n",
    "- When you want to peanlize FN more than FP\n",
    "- Example: Predicting Cancer Patients or Credit Card Fraud\n",
    "\n",
    "**Optimize Precision When:**\n",
    "- You want to limit false positives \n",
    "- When you want to peanlize FP more than FN\n",
    "- Example: Spam VS Not Spam"
   ]
  },
  {
   "cell_type": "code",
   "execution_count": 38,
   "metadata": {},
   "outputs": [
    {
     "name": "stdout",
     "output_type": "stream",
     "text": [
      "[[40  9]\n",
      " [ 4 12]]\n"
     ]
    }
   ],
   "source": [
    "from sklearn import metrics\n",
    "# Print Confusion Matrix\n",
    "print (metrics.confusion_matrix(y_test, predicted))"
   ]
  },
  {
   "cell_type": "code",
   "execution_count": 39,
   "metadata": {
    "scrolled": true
   },
   "outputs": [
    {
     "name": "stdout",
     "output_type": "stream",
     "text": [
      "              precision    recall  f1-score   support\n",
      "\n",
      "           0       0.91      0.82      0.86        49\n",
      "           1       0.57      0.75      0.65        16\n",
      "\n",
      "    accuracy                           0.80        65\n",
      "   macro avg       0.74      0.78      0.75        65\n",
      "weighted avg       0.83      0.80      0.81        65\n",
      "\n"
     ]
    }
   ],
   "source": [
    "print (metrics.classification_report(y_test, predicted))"
   ]
  },
  {
   "cell_type": "markdown",
   "metadata": {},
   "source": [
    "## Part 4: Logistic Regression Review\n",
    "***\n",
    "\n",
    "**Linear Regression Equation**: y=β0+β1x\n",
    "- Continuous response is modeled as a linear combination of the features\n",
    "\n",
    "**Logistic Regression Equation**: log(p/1−p)=β0+β1x\n",
    "- Log-odds of a categorical response being \"true\" (1) is modeled as a linear combination of the features:\n",
    "\n",
    "**Summary:**\n",
    "- Logistic regression outputs the probabilities of a specific class\n",
    "- Those probabilities can be converted into class predictions\n",
    "- It squishes the linear regression line into an \"s\" shape\n",
    "- Output is bounded by 0 and 1"
   ]
  },
  {
   "cell_type": "markdown",
   "metadata": {},
   "source": [
    "## Part 5: Interpretting Logistic Regression Coefficients\n",
    "***"
   ]
  },
  {
   "cell_type": "markdown",
   "metadata": {},
   "source": [
    "**Fit Logistic Regression on all Features**"
   ]
  },
  {
   "cell_type": "code",
   "execution_count": null,
   "metadata": {},
   "outputs": [],
   "source": [
    "# Let's use the statsmodel library \n",
    "import statsmodels.api as sm\n",
    "\n",
    "# Define independent variables\n",
    "iv = ['ri','na','mg','al','si','k','ca','ba','fe']\n",
    "\n",
    "# Fit the logistic regression function\n",
    "logReg = sm.Logit(df.household,df[iv])\n",
    "answer = logReg.fit()"
   ]
  },
  {
   "cell_type": "markdown",
   "metadata": {},
   "source": [
    "**Display Parameter Coefficients**"
   ]
  },
  {
   "cell_type": "markdown",
   "metadata": {},
   "source": [
    "Let's focus on **Aluminum (al)**:\n",
    "\n",
    "We can interpret this as follows - For a **1 unit increase in aluminum** we expect the **odds of it being a household glass** to increase by almost **two times (96%)**, holding everything else constant. "
   ]
  },
  {
   "cell_type": "code",
   "execution_count": null,
   "metadata": {},
   "outputs": [],
   "source": [
    "# Display the parameter coefficients \n",
    "np.exp(answer.params)"
   ]
  },
  {
   "cell_type": "markdown",
   "metadata": {},
   "source": [
    "## Questions\n",
    "***\n",
    "1. What is a Logistic Function? And What is the range of values of a logistic function: f(z) = 1/(1+e^(B0+B1X1)?\n",
    "2. What do Odds in Log(Odds) mean?\n",
    "3. Why shouldn't you use Linear Regression for binary classification?\n",
    "4. Is accuracy a good metric to evaluate classification problems? If not, why? And what would you use instead?\n",
    "5. What is Precision/Recall? Give me an example of when you want to optimize each. \n",
    "5. What should you do when there is a class imbalance problem in your dataset? Is the glass dataset imbalanced?\n"
   ]
  },
  {
   "cell_type": "markdown",
   "metadata": {},
   "source": [
    "## Part 6: Exercise\n",
    "***\n",
    "\n",
    "Download employee retention dataset from here: https://www.kaggle.com/giripujar/hr-analytics.\n",
    "1. Perform some Exploratory Data Analysis (EDA) to find which features have an impact on the target feature (employee turnover).\n",
    "2. Plot the distribution of employee satisfaction, evaluation, and average monthly hours. \n",
    "3. Plot the distribution of the different departments with turnover/non-turnover employees\n",
    "4. Now build logistic regression model using all the features or features that you found were relevant.\n",
    "5. Measure the accuracy of the model"
   ]
  },
  {
   "cell_type": "code",
   "execution_count": null,
   "metadata": {},
   "outputs": [],
   "source": []
  },
  {
   "cell_type": "code",
   "execution_count": null,
   "metadata": {},
   "outputs": [],
   "source": []
  }
 ],
 "metadata": {
  "kernelspec": {
   "display_name": "Python 3",
   "language": "python",
   "name": "python3"
  },
  "language_info": {
   "codemirror_mode": {
    "name": "ipython",
    "version": 3
   },
   "file_extension": ".py",
   "mimetype": "text/x-python",
   "name": "python",
   "nbconvert_exporter": "python",
   "pygments_lexer": "ipython3",
   "version": "3.6.8"
  }
 },
 "nbformat": 4,
 "nbformat_minor": 2
}
